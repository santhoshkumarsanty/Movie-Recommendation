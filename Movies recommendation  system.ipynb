{
 "cells": [
  {
   "cell_type": "code",
   "execution_count": 1,
   "metadata": {},
   "outputs": [
    {
     "name": "stderr",
     "output_type": "stream",
     "text": [
      "C:\\Users\\LENOVO\\anaconda3\\envs\\gpu\\lib\\site-packages\\fuzzywuzzy\\fuzz.py:11: UserWarning: Using slow pure-python SequenceMatcher. Install python-Levenshtein to remove this warning\n",
      "  warnings.warn('Using slow pure-python SequenceMatcher. Install python-Levenshtein to remove this warning')\n"
     ]
    }
   ],
   "source": [
    "import pandas as pd\n",
    "import numpy as np\n",
    "from sklearn.feature_extraction.text import CountVectorizer\n",
    "from sklearn.metrics.pairwise import cosine_similarity\n",
    "from fuzzywuzzy import process"
   ]
  },
  {
   "cell_type": "code",
   "execution_count": 2,
   "metadata": {},
   "outputs": [],
   "source": [
    "df = pd.read_csv(r\"E:\\nlp\\data\\movies.csv\")\n",
    "df = df.reset_index()"
   ]
  },
  {
   "cell_type": "code",
   "execution_count": 3,
   "metadata": {},
   "outputs": [],
   "source": [
    "df = df.rename(columns={\"index\":\"movie_id\"})"
   ]
  },
  {
   "cell_type": "code",
   "execution_count": 4,
   "metadata": {},
   "outputs": [
    {
     "data": {
      "text/plain": [
       "movie_id         0\n",
       "director_name    0\n",
       "actor_1_name     0\n",
       "actor_2_name     0\n",
       "actor_3_name     0\n",
       "genres           0\n",
       "movie_title      0\n",
       "dtype: int64"
      ]
     },
     "execution_count": 4,
     "metadata": {},
     "output_type": "execute_result"
    }
   ],
   "source": [
    "df.isna().sum()"
   ]
  },
  {
   "cell_type": "markdown",
   "metadata": {},
   "source": [
    "This dataset didn't have any null values."
   ]
  },
  {
   "cell_type": "code",
   "execution_count": 5,
   "metadata": {},
   "outputs": [
    {
     "name": "stdout",
     "output_type": "stream",
     "text": [
      "<class 'pandas.core.frame.DataFrame'>\n",
      "RangeIndex: 5043 entries, 0 to 5042\n",
      "Data columns (total 7 columns):\n",
      " #   Column         Non-Null Count  Dtype \n",
      "---  ------         --------------  ----- \n",
      " 0   movie_id       5043 non-null   int64 \n",
      " 1   director_name  5043 non-null   object\n",
      " 2   actor_1_name   5043 non-null   object\n",
      " 3   actor_2_name   5043 non-null   object\n",
      " 4   actor_3_name   5043 non-null   object\n",
      " 5   genres         5043 non-null   object\n",
      " 6   movie_title    5043 non-null   object\n",
      "dtypes: int64(1), object(6)\n",
      "memory usage: 275.9+ KB\n",
      "None\n"
     ]
    },
    {
     "data": {
      "text/plain": [
       "(5043, 7)"
      ]
     },
     "execution_count": 5,
     "metadata": {},
     "output_type": "execute_result"
    }
   ],
   "source": [
    "print(df.info())\n",
    "df.shape"
   ]
  },
  {
   "cell_type": "markdown",
   "metadata": {},
   "source": [
    "Combine the importent features to get Cosine similarity score."
   ]
  },
  {
   "cell_type": "code",
   "execution_count": 6,
   "metadata": {},
   "outputs": [],
   "source": [
    "def importent_features(data):\n",
    "    impt_features = []\n",
    "    for i in range(0,len(data)):\n",
    "        impt_features.append(data[\"movie_title\"][i] + \" \"+data[\"director_name\"][i] + \" \"+ data[\"actor_1_name\"][i] + \" \" + data[\"actor_2_name\"][i] + ' ' + data[\"actor_3_name\"][i] + \" \" + data[\"genres\"][i])\n",
    "        \n",
    "    return impt_features"
   ]
  },
  {
   "cell_type": "code",
   "execution_count": 7,
   "metadata": {},
   "outputs": [],
   "source": [
    "df[\"importent_feature\"] = importent_features(df)"
   ]
  },
  {
   "cell_type": "code",
   "execution_count": 8,
   "metadata": {},
   "outputs": [
    {
     "data": {
      "text/html": [
       "<div>\n",
       "<style scoped>\n",
       "    .dataframe tbody tr th:only-of-type {\n",
       "        vertical-align: middle;\n",
       "    }\n",
       "\n",
       "    .dataframe tbody tr th {\n",
       "        vertical-align: top;\n",
       "    }\n",
       "\n",
       "    .dataframe thead th {\n",
       "        text-align: right;\n",
       "    }\n",
       "</style>\n",
       "<table border=\"1\" class=\"dataframe\">\n",
       "  <thead>\n",
       "    <tr style=\"text-align: right;\">\n",
       "      <th></th>\n",
       "      <th>movie_id</th>\n",
       "      <th>director_name</th>\n",
       "      <th>actor_1_name</th>\n",
       "      <th>actor_2_name</th>\n",
       "      <th>actor_3_name</th>\n",
       "      <th>genres</th>\n",
       "      <th>movie_title</th>\n",
       "      <th>importent_feature</th>\n",
       "    </tr>\n",
       "  </thead>\n",
       "  <tbody>\n",
       "    <tr>\n",
       "      <th>0</th>\n",
       "      <td>0</td>\n",
       "      <td>James Cameron</td>\n",
       "      <td>CCH Pounder</td>\n",
       "      <td>Joel David Moore</td>\n",
       "      <td>Wes Studi</td>\n",
       "      <td>Action Adventure Fantasy Sci-Fi</td>\n",
       "      <td>avatar</td>\n",
       "      <td>avatar James Cameron CCH Pounder Joel David Mo...</td>\n",
       "    </tr>\n",
       "    <tr>\n",
       "      <th>1</th>\n",
       "      <td>1</td>\n",
       "      <td>Gore Verbinski</td>\n",
       "      <td>Johnny Depp</td>\n",
       "      <td>Orlando Bloom</td>\n",
       "      <td>Jack Davenport</td>\n",
       "      <td>Action Adventure Fantasy</td>\n",
       "      <td>pirates of the caribbean: at world's end</td>\n",
       "      <td>pirates of the caribbean: at world's end Gore ...</td>\n",
       "    </tr>\n",
       "    <tr>\n",
       "      <th>2</th>\n",
       "      <td>2</td>\n",
       "      <td>Sam Mendes</td>\n",
       "      <td>Christoph Waltz</td>\n",
       "      <td>Rory Kinnear</td>\n",
       "      <td>Stephanie Sigman</td>\n",
       "      <td>Action Adventure Thriller</td>\n",
       "      <td>spectre</td>\n",
       "      <td>spectre Sam Mendes Christoph Waltz Rory Kinnea...</td>\n",
       "    </tr>\n",
       "    <tr>\n",
       "      <th>3</th>\n",
       "      <td>3</td>\n",
       "      <td>Christopher Nolan</td>\n",
       "      <td>Tom Hardy</td>\n",
       "      <td>Christian Bale</td>\n",
       "      <td>Joseph Gordon-Levitt</td>\n",
       "      <td>Action Thriller</td>\n",
       "      <td>the dark knight rises</td>\n",
       "      <td>the dark knight rises Christopher Nolan Tom Ha...</td>\n",
       "    </tr>\n",
       "    <tr>\n",
       "      <th>4</th>\n",
       "      <td>4</td>\n",
       "      <td>Doug Walker</td>\n",
       "      <td>Doug Walker</td>\n",
       "      <td>Rob Walker</td>\n",
       "      <td>unknown</td>\n",
       "      <td>Documentary</td>\n",
       "      <td>star wars: episode vii - the force awakens    ...</td>\n",
       "      <td>star wars: episode vii - the force awakens    ...</td>\n",
       "    </tr>\n",
       "    <tr>\n",
       "      <th>...</th>\n",
       "      <td>...</td>\n",
       "      <td>...</td>\n",
       "      <td>...</td>\n",
       "      <td>...</td>\n",
       "      <td>...</td>\n",
       "      <td>...</td>\n",
       "      <td>...</td>\n",
       "      <td>...</td>\n",
       "    </tr>\n",
       "    <tr>\n",
       "      <th>5038</th>\n",
       "      <td>5038</td>\n",
       "      <td>Scott Smith</td>\n",
       "      <td>Eric Mabius</td>\n",
       "      <td>Daphne Zuniga</td>\n",
       "      <td>Crystal Lowe</td>\n",
       "      <td>Comedy Drama</td>\n",
       "      <td>signed sealed delivered</td>\n",
       "      <td>signed sealed delivered Scott Smith Eric Mabiu...</td>\n",
       "    </tr>\n",
       "    <tr>\n",
       "      <th>5039</th>\n",
       "      <td>5039</td>\n",
       "      <td>unknown</td>\n",
       "      <td>Natalie Zea</td>\n",
       "      <td>Valorie Curry</td>\n",
       "      <td>Sam Underwood</td>\n",
       "      <td>Crime Drama Mystery Thriller</td>\n",
       "      <td>the following</td>\n",
       "      <td>the following             unknown Natalie Zea ...</td>\n",
       "    </tr>\n",
       "    <tr>\n",
       "      <th>5040</th>\n",
       "      <td>5040</td>\n",
       "      <td>Benjamin Roberds</td>\n",
       "      <td>Eva Boehnke</td>\n",
       "      <td>Maxwell Moody</td>\n",
       "      <td>David Chandler</td>\n",
       "      <td>Drama Horror Thriller</td>\n",
       "      <td>a plague so pleasant</td>\n",
       "      <td>a plague so pleasant Benjamin Roberds Eva Boeh...</td>\n",
       "    </tr>\n",
       "    <tr>\n",
       "      <th>5041</th>\n",
       "      <td>5041</td>\n",
       "      <td>Daniel Hsia</td>\n",
       "      <td>Alan Ruck</td>\n",
       "      <td>Daniel Henney</td>\n",
       "      <td>Eliza Coupe</td>\n",
       "      <td>Comedy Drama Romance</td>\n",
       "      <td>shanghai calling</td>\n",
       "      <td>shanghai calling Daniel Hsia Alan Ruck Daniel ...</td>\n",
       "    </tr>\n",
       "    <tr>\n",
       "      <th>5042</th>\n",
       "      <td>5042</td>\n",
       "      <td>Jon Gunn</td>\n",
       "      <td>John August</td>\n",
       "      <td>Brian Herzlinger</td>\n",
       "      <td>Jon Gunn</td>\n",
       "      <td>Documentary</td>\n",
       "      <td>my date with drew</td>\n",
       "      <td>my date with drew Jon Gunn John August Brian H...</td>\n",
       "    </tr>\n",
       "  </tbody>\n",
       "</table>\n",
       "<p>5043 rows × 8 columns</p>\n",
       "</div>"
      ],
      "text/plain": [
       "      movie_id      director_name     actor_1_name      actor_2_name  \\\n",
       "0            0      James Cameron      CCH Pounder  Joel David Moore   \n",
       "1            1     Gore Verbinski      Johnny Depp     Orlando Bloom   \n",
       "2            2         Sam Mendes  Christoph Waltz      Rory Kinnear   \n",
       "3            3  Christopher Nolan        Tom Hardy    Christian Bale   \n",
       "4            4        Doug Walker      Doug Walker        Rob Walker   \n",
       "...        ...                ...              ...               ...   \n",
       "5038      5038        Scott Smith      Eric Mabius     Daphne Zuniga   \n",
       "5039      5039            unknown      Natalie Zea     Valorie Curry   \n",
       "5040      5040   Benjamin Roberds      Eva Boehnke     Maxwell Moody   \n",
       "5041      5041        Daniel Hsia        Alan Ruck     Daniel Henney   \n",
       "5042      5042           Jon Gunn      John August  Brian Herzlinger   \n",
       "\n",
       "              actor_3_name                           genres  \\\n",
       "0                Wes Studi  Action Adventure Fantasy Sci-Fi   \n",
       "1           Jack Davenport         Action Adventure Fantasy   \n",
       "2         Stephanie Sigman        Action Adventure Thriller   \n",
       "3     Joseph Gordon-Levitt                  Action Thriller   \n",
       "4                  unknown                      Documentary   \n",
       "...                    ...                              ...   \n",
       "5038          Crystal Lowe                     Comedy Drama   \n",
       "5039         Sam Underwood     Crime Drama Mystery Thriller   \n",
       "5040        David Chandler            Drama Horror Thriller   \n",
       "5041           Eliza Coupe             Comedy Drama Romance   \n",
       "5042              Jon Gunn                      Documentary   \n",
       "\n",
       "                                            movie_title  \\\n",
       "0                                                avatar   \n",
       "1              pirates of the caribbean: at world's end   \n",
       "2                                               spectre   \n",
       "3                                 the dark knight rises   \n",
       "4     star wars: episode vii - the force awakens    ...   \n",
       "...                                                 ...   \n",
       "5038                            signed sealed delivered   \n",
       "5039                          the following               \n",
       "5040                               a plague so pleasant   \n",
       "5041                                   shanghai calling   \n",
       "5042                                  my date with drew   \n",
       "\n",
       "                                      importent_feature  \n",
       "0     avatar James Cameron CCH Pounder Joel David Mo...  \n",
       "1     pirates of the caribbean: at world's end Gore ...  \n",
       "2     spectre Sam Mendes Christoph Waltz Rory Kinnea...  \n",
       "3     the dark knight rises Christopher Nolan Tom Ha...  \n",
       "4     star wars: episode vii - the force awakens    ...  \n",
       "...                                                 ...  \n",
       "5038  signed sealed delivered Scott Smith Eric Mabiu...  \n",
       "5039  the following             unknown Natalie Zea ...  \n",
       "5040  a plague so pleasant Benjamin Roberds Eva Boeh...  \n",
       "5041  shanghai calling Daniel Hsia Alan Ruck Daniel ...  \n",
       "5042  my date with drew Jon Gunn John August Brian H...  \n",
       "\n",
       "[5043 rows x 8 columns]"
      ]
     },
     "execution_count": 8,
     "metadata": {},
     "output_type": "execute_result"
    }
   ],
   "source": [
    "df"
   ]
  },
  {
   "cell_type": "code",
   "execution_count": 32,
   "metadata": {},
   "outputs": [],
   "source": [
    "df.to_csv(r'movies_final.csv')"
   ]
  },
  {
   "cell_type": "code",
   "execution_count": 9,
   "metadata": {},
   "outputs": [],
   "source": [
    "#Convert the text into a matrix by bag of words technique \n",
    "cv = CountVectorizer()\n",
    "cv = cv.fit_transform(df[\"importent_feature\"])"
   ]
  },
  {
   "cell_type": "code",
   "execution_count": 10,
   "metadata": {},
   "outputs": [
    {
     "data": {
      "text/plain": [
       "<5043x12652 sparse matrix of type '<class 'numpy.int64'>'\n",
       "\twith 69301 stored elements in Compressed Sparse Row format>"
      ]
     },
     "execution_count": 10,
     "metadata": {},
     "output_type": "execute_result"
    }
   ],
   "source": [
    "cv"
   ]
  },
  {
   "cell_type": "code",
   "execution_count": 11,
   "metadata": {},
   "outputs": [],
   "source": [
    "#cosine similarity matrix\n",
    "cs = cosine_similarity(cv)"
   ]
  },
  {
   "cell_type": "code",
   "execution_count": 12,
   "metadata": {},
   "outputs": [
    {
     "data": {
      "text/plain": [
       "array([[1.        , 0.18257419, 0.1490712 , ..., 0.06900656, 0.        ,\n",
       "        0.        ],\n",
       "       [0.18257419, 1.        , 0.13608276, ..., 0.        , 0.        ,\n",
       "        0.        ],\n",
       "       [0.1490712 , 0.13608276, 1.        , ..., 0.07715167, 0.        ,\n",
       "        0.        ],\n",
       "       ...,\n",
       "       [0.06900656, 0.        , 0.07715167, ..., 1.        , 0.06900656,\n",
       "        0.        ],\n",
       "       [0.        , 0.        , 0.        , ..., 0.06900656, 1.        ,\n",
       "        0.        ],\n",
       "       [0.        , 0.        , 0.        , ..., 0.        , 0.        ,\n",
       "        1.        ]])"
      ]
     },
     "execution_count": 12,
     "metadata": {},
     "output_type": "execute_result"
    }
   ],
   "source": [
    "cs"
   ]
  },
  {
   "cell_type": "code",
   "execution_count": 30,
   "metadata": {},
   "outputs": [],
   "source": [
    "import pickle\n",
    "pickle_out = open(\"cosine.pkl\",\"wb\")\n",
    "pickle.dump(cs, pickle_out)\n",
    "pickle_out.close()"
   ]
  },
  {
   "cell_type": "code",
   "execution_count": 13,
   "metadata": {},
   "outputs": [
    {
     "data": {
      "text/plain": [
       "(5043, 5043)"
      ]
     },
     "execution_count": 13,
     "metadata": {},
     "output_type": "execute_result"
    }
   ],
   "source": [
    "cs.shape"
   ]
  },
  {
   "cell_type": "code",
   "execution_count": 14,
   "metadata": {},
   "outputs": [],
   "source": [
    "def top_10(movie_title):\n",
    "    title = process.extractOne(movie_title,df[\"movie_title\"])\n",
    "    if title[1] > 80:\n",
    "        movie_id = title[2]\n",
    "        scores = list(enumerate(cs[movie_id]))\n",
    "        sorted_score = sorted(scores,key = lambda x:x[1],reverse=True)\n",
    "        top_10 = sorted_score[1:11]\n",
    "        for i,j in zip(top_10,range(1,len(top_10)+1)):\n",
    "            movie_title = df[\"movie_title\"][i[0]]\n",
    "            print(f\"{j}.{movie_title}\")\n",
    "            print(\"\")\n",
    "            \n",
    "            \n",
    "    else:\n",
    "        print(\"Sorry! The movie you requested is not in our database. Please check the spelling or try with other movies!\")"
   ]
  },
  {
   "cell_type": "code",
   "execution_count": 15,
   "metadata": {
    "scrolled": false
   },
   "outputs": [
    {
     "name": "stdout",
     "output_type": "stream",
     "text": [
      "1.iron man 2\n",
      "\n",
      "2.iron man 3\n",
      "\n",
      "3.zathura: a space adventure\n",
      "\n",
      "4.deep impact\n",
      "\n",
      "5.made\n",
      "\n",
      "6.the avengers\n",
      "\n",
      "7.the avengers\n",
      "\n",
      "8.avengers: age of ultron\n",
      "\n",
      "9.captain america: civil war\n",
      "\n",
      "10.tron: legacy\n",
      "\n"
     ]
    }
   ],
   "source": [
    "top_10(\"iron man\")"
   ]
  },
  {
   "cell_type": "code",
   "execution_count": null,
   "metadata": {},
   "outputs": [],
   "source": []
  }
 ],
 "metadata": {
  "kernelspec": {
   "display_name": "Python 3",
   "language": "python",
   "name": "python3"
  },
  "language_info": {
   "codemirror_mode": {
    "name": "ipython",
    "version": 3
   },
   "file_extension": ".py",
   "mimetype": "text/x-python",
   "name": "python",
   "nbconvert_exporter": "python",
   "pygments_lexer": "ipython3",
   "version": "3.6.12"
  }
 },
 "nbformat": 4,
 "nbformat_minor": 4
}
