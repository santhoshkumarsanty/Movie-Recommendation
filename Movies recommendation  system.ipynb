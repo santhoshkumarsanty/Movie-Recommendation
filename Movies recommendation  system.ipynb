{
 "cells": [
  {
   "cell_type": "code",
   "execution_count": 3,
   "metadata": {},
   "outputs": [
    {
     "name": "stderr",
     "output_type": "stream",
     "text": [
      "c:\\users\\91807\\appdata\\local\\programs\\python\\python39\\lib\\site-packages\\fuzzywuzzy\\fuzz.py:11: UserWarning: Using slow pure-python SequenceMatcher. Install python-Levenshtein to remove this warning\n",
      "  warnings.warn('Using slow pure-python SequenceMatcher. Install python-Levenshtein to remove this warning')\n"
     ]
    }
   ],
   "source": [
    "import pandas as pd\n",
    "import numpy as np\n",
    "from sklearn.feature_extraction.text import CountVectorizer\n",
    "from sklearn.metrics.pairwise import cosine_similarity\n",
    "from fuzzywuzzy import process"
   ]
  },
  {
   "cell_type": "code",
   "execution_count": 6,
   "metadata": {},
   "outputs": [],
   "source": [
    "df = pd.read_csv(r\"C:\\Users\\91807\\Downloads\\Movie_recommentation_system_based_on_cosine_similarity-main\\Movie_recommentation_system_based_on_cosine_similarity-main\\movies_final.csv\")\n",
    "df = df.reset_index()"
   ]
  },
  {
   "cell_type": "code",
   "execution_count": 7,
   "metadata": {},
   "outputs": [],
   "source": [
    "df = df.rename(columns={\"index\":\"movie_id\"})"
   ]
  },
  {
   "cell_type": "code",
   "execution_count": 8,
   "metadata": {},
   "outputs": [
    {
     "data": {
      "text/plain": [
       "movie_id             0\n",
       "Unnamed: 0           0\n",
       "movie_id             0\n",
       "director_name        0\n",
       "actor_1_name         0\n",
       "actor_2_name         0\n",
       "actor_3_name         0\n",
       "genres               0\n",
       "movie_title          0\n",
       "importent_feature    0\n",
       "dtype: int64"
      ]
     },
     "execution_count": 8,
     "metadata": {},
     "output_type": "execute_result"
    }
   ],
   "source": [
    "df.isna().sum()"
   ]
  },
  {
   "cell_type": "markdown",
   "metadata": {},
   "source": [
    "This dataset didn't have any null values."
   ]
  },
  {
   "cell_type": "code",
   "execution_count": 9,
   "metadata": {},
   "outputs": [
    {
     "name": "stdout",
     "output_type": "stream",
     "text": [
      "<class 'pandas.core.frame.DataFrame'>\n",
      "RangeIndex: 5043 entries, 0 to 5042\n",
      "Data columns (total 10 columns):\n",
      " #   Column             Non-Null Count  Dtype \n",
      "---  ------             --------------  ----- \n",
      " 0   movie_id           5043 non-null   int64 \n",
      " 1   Unnamed: 0         5043 non-null   int64 \n",
      " 2   movie_id           5043 non-null   int64 \n",
      " 3   director_name      5043 non-null   object\n",
      " 4   actor_1_name       5043 non-null   object\n",
      " 5   actor_2_name       5043 non-null   object\n",
      " 6   actor_3_name       5043 non-null   object\n",
      " 7   genres             5043 non-null   object\n",
      " 8   movie_title        5043 non-null   object\n",
      " 9   importent_feature  5043 non-null   object\n",
      "dtypes: int64(3), object(7)\n",
      "memory usage: 394.1+ KB\n",
      "None\n"
     ]
    },
    {
     "data": {
      "text/plain": [
       "(5043, 10)"
      ]
     },
     "execution_count": 9,
     "metadata": {},
     "output_type": "execute_result"
    }
   ],
   "source": [
    "print(df.info())\n",
    "df.shape"
   ]
  },
  {
   "cell_type": "markdown",
   "metadata": {},
   "source": [
    "Combine the importent features to get Cosine similarity score."
   ]
  },
  {
   "cell_type": "code",
   "execution_count": 10,
   "metadata": {},
   "outputs": [],
   "source": [
    "def importent_features(data):\n",
    "    impt_features = []\n",
    "    for i in range(0,len(data)):\n",
    "        impt_features.append(data[\"movie_title\"][i] + \" \"+data[\"director_name\"][i] + \" \"+ data[\"actor_1_name\"][i] + \" \" + data[\"actor_2_name\"][i] + ' ' + data[\"actor_3_name\"][i] + \" \" + data[\"genres\"][i])\n",
    "        \n",
    "    return impt_features"
   ]
  },
  {
   "cell_type": "code",
   "execution_count": null,
   "metadata": {},
   "outputs": [],
   "source": [
    "df[\"importent_feature\"] = importent_features(df)"
   ]
  },
  {
   "cell_type": "code",
   "execution_count": null,
   "metadata": {},
   "outputs": [],
   "source": [
    "df"
   ]
  },
  {
   "cell_type": "code",
   "execution_count": null,
   "metadata": {},
   "outputs": [],
   "source": [
    "df.to_csv(r'movies_final.csv')"
   ]
  },
  {
   "cell_type": "code",
   "execution_count": null,
   "metadata": {},
   "outputs": [],
   "source": [
    "#Convert the text into a matrix by bag of words technique \n",
    "cv = CountVectorizer()\n",
    "cv = cv.fit_transform(df[\"importent_feature\"])"
   ]
  },
  {
   "cell_type": "code",
   "execution_count": null,
   "metadata": {},
   "outputs": [],
   "source": [
    "cv"
   ]
  },
  {
   "cell_type": "code",
   "execution_count": null,
   "metadata": {},
   "outputs": [],
   "source": [
    "#cosine similarity matrix\n",
    "cs = cosine_similarity(cv)"
   ]
  },
  {
   "cell_type": "code",
   "execution_count": null,
   "metadata": {},
   "outputs": [],
   "source": [
    "cs"
   ]
  },
  {
   "cell_type": "code",
   "execution_count": null,
   "metadata": {},
   "outputs": [],
   "source": [
    "import pickle\n",
    "pickle_out = open(\"cosine.pkl\",\"wb\")\n",
    "pickle.dump(cs, pickle_out)\n",
    "pickle_out.close()"
   ]
  },
  {
   "cell_type": "code",
   "execution_count": null,
   "metadata": {},
   "outputs": [],
   "source": [
    "cs.shape"
   ]
  },
  {
   "cell_type": "code",
   "execution_count": 14,
   "metadata": {},
   "outputs": [],
   "source": [
    "def top_10(movie_title):\n",
    "    title = process.extractOne(movie_title,df[\"movie_title\"])\n",
    "    if title[1] > 80:\n",
    "        movie_id = title[2]\n",
    "        scores = list(enumerate(cs[movie_id]))\n",
    "        sorted_score = sorted(scores,key = lambda x:x[1],reverse=True)\n",
    "        top_10 = sorted_score[1:11]\n",
    "        for i,j in zip(top_10,range(1,len(top_10)+1)):\n",
    "            movie_title = df[\"movie_title\"][i[0]]\n",
    "            print(f\"{j}.{movie_title}\")\n",
    "            print(\"\")\n",
    "            \n",
    "            \n",
    "    else:\n",
    "        print(\"Sorry! The movie you requested is not in our database. Please check the spelling or try with other movies!\")"
   ]
  },
  {
   "cell_type": "code",
   "execution_count": 15,
   "metadata": {
    "scrolled": false
   },
   "outputs": [
    {
     "name": "stdout",
     "output_type": "stream",
     "text": [
      "1.iron man 2\n",
      "\n",
      "2.iron man 3\n",
      "\n",
      "3.zathura: a space adventure\n",
      "\n",
      "4.deep impact\n",
      "\n",
      "5.made\n",
      "\n",
      "6.the avengers\n",
      "\n",
      "7.the avengers\n",
      "\n",
      "8.avengers: age of ultron\n",
      "\n",
      "9.captain america: civil war\n",
      "\n",
      "10.tron: legacy\n",
      "\n"
     ]
    }
   ],
   "source": [
    "top_10(\"iron man\")"
   ]
  },
  {
   "cell_type": "code",
   "execution_count": null,
   "metadata": {},
   "outputs": [],
   "source": []
  }
 ],
 "metadata": {
  "kernelspec": {
   "display_name": "Python 3 (ipykernel)",
   "language": "python",
   "name": "python3"
  },
  "language_info": {
   "codemirror_mode": {
    "name": "ipython",
    "version": 3
   },
   "file_extension": ".py",
   "mimetype": "text/x-python",
   "name": "python",
   "nbconvert_exporter": "python",
   "pygments_lexer": "ipython3",
   "version": "3.9.6"
  }
 },
 "nbformat": 4,
 "nbformat_minor": 4
}
